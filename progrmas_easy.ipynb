{
  "nbformat": 4,
  "nbformat_minor": 0,
  "metadata": {
    "colab": {
      "name": "Untitled0.ipynb",
      "provenance": [],
      "authorship_tag": "ABX9TyP6TgExeX4AToT85EwZYjql",
      "include_colab_link": true
    },
    "kernelspec": {
      "name": "python3",
      "display_name": "Python 3"
    },
    "language_info": {
      "name": "python"
    }
  },
  "cells": [
    {
      "cell_type": "markdown",
      "metadata": {
        "id": "view-in-github",
        "colab_type": "text"
      },
      "source": [
        "<a href=\"https://colab.research.google.com/github/HanzoYagami/HanzoYagami/blob/main/progrmas_easy.ipynb\" target=\"_parent\"><img src=\"https://colab.research.google.com/assets/colab-badge.svg\" alt=\"Open In Colab\"/></a>"
      ]
    },
    {
      "cell_type": "code",
      "metadata": {
        "colab": {
          "base_uri": "https://localhost:8080/"
        },
        "id": "-6goYD3TlIBo",
        "outputId": "0d0c6248-3dea-49f7-a675-8c2309e589f8"
      },
      "source": [
        "oi=print(\"hello word\")\n",
        "oi "
      ],
      "execution_count": 1,
      "outputs": [
        {
          "output_type": "stream",
          "name": "stdout",
          "text": [
            "hello word\n"
          ]
        }
      ]
    },
    {
      "cell_type": "code",
      "metadata": {
        "colab": {
          "base_uri": "https://localhost:8080/"
        },
        "id": "WTEgFFFsl6VY",
        "outputId": "26a84aa2-d4d4-4f80-f49a-f4a522f419fa"
      },
      "source": [
        "n1=int(input(\"insira um numero\"))\n",
        "n2=int(input(\"insira um numero\"))\n",
        "s=n1+ n2\n",
        "print(f'a soma de {n1} e {n2} é {s}')\n"
      ],
      "execution_count": 2,
      "outputs": [
        {
          "output_type": "stream",
          "name": "stdout",
          "text": [
            "insira um numero34\n",
            "insira um numero725\n",
            "a soma de 34 e 725 é 759\n"
          ]
        }
      ]
    },
    {
      "cell_type": "code",
      "metadata": {
        "id": "DL5ycaAxmmKL"
      },
      "source": [
        ""
      ],
      "execution_count": null,
      "outputs": []
    }
  ]
}