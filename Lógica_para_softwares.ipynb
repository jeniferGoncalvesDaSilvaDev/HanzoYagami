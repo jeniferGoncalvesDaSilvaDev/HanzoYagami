{
  "nbformat": 4,
  "nbformat_minor": 0,
  "metadata": {
    "colab": {
      "name": "Lógica_para_softwares.ipynb",
      "provenance": [],
      "collapsed_sections": [],
      "authorship_tag": "ABX9TyM2Fpc8AF7XxQTTq1NEvCPt",
      "include_colab_link": true
    },
    "kernelspec": {
      "name": "python3",
      "display_name": "Python 3"
    },
    "language_info": {
      "name": "python"
    }
  },
  "cells": [
    {
      "cell_type": "markdown",
      "metadata": {
        "id": "view-in-github",
        "colab_type": "text"
      },
      "source": [
        "<a href=\"https://colab.research.google.com/github/HanzoYagami/HanzoYagami/blob/main/L%C3%B3gica_para_softwares.ipynb\" target=\"_parent\"><img src=\"https://colab.research.google.com/assets/colab-badge.svg\" alt=\"Open In Colab\"/></a>"
      ]
    },
    {
      "cell_type": "code",
      "metadata": {
        "id": "eNBPrwYoo78B"
      },
      "source": [
        ""
      ],
      "execution_count": null,
      "outputs": []
    },
    {
      "cell_type": "markdown",
      "metadata": {
        "id": "t25mtiuusIFe"
      },
      "source": [
        "# condicionais\n",
        "São utilizadas a atribui lógica a um código\n",
        "condições\n",
        ". maior\n",
        ". menor\n",
        ". igual\n",
        ".diferente de \n",
        ". maior ou igual\n",
        ".menor ou igual \n"
      ]
    },
    {
      "cell_type": "code",
      "metadata": {
        "colab": {
          "base_uri": "https://localhost:8080/"
        },
        "id": "CTPFzgpqsUo2",
        "outputId": "68732e26-54bb-47d4-dfad-8590dd0f8cca"
      },
      "source": [
        "horario= \"noite\"\n",
        "if horario==\"dia\":\n",
        "  print(\"esta de dia\")\n",
        "elif horario==\"tarde\":\n",
        "  print(\"esta de tarde\")\n",
        "else:\n",
        "  print(\"esta de noite\")\n",
        "\n"
      ],
      "execution_count": 1,
      "outputs": [
        {
          "output_type": "stream",
          "name": "stdout",
          "text": [
            "esta de noite\n"
          ]
        }
      ]
    },
    {
      "cell_type": "code",
      "metadata": {
        "colab": {
          "base_uri": "https://localhost:8080/"
        },
        "id": "18gLU5Qcs93e",
        "outputId": "e3257339-0b51-4e5e-ddb6-ef8739057d79"
      },
      "source": [
        "idade=18\n",
        "if idade<18:\n",
        "  print(\"não pode entrar no bar!\")\n",
        "else:\n",
        "  print(\"pode entrar no bar\")"
      ],
      "execution_count": 2,
      "outputs": [
        {
          "output_type": "stream",
          "name": "stdout",
          "text": [
            "pode entrar no bar\n"
          ]
        }
      ]
    },
    {
      "cell_type": "code",
      "metadata": {
        "colab": {
          "base_uri": "https://localhost:8080/"
        },
        "id": "qlvgMr3vtQH8",
        "outputId": "74d3aae2-9fb7-480a-e0c2-2edb846c8c09"
      },
      "source": [
        "dia= 10\n",
        "if dia==10:\n",
        "  print(\"é dia dez\")\n",
        "elif dia!=10:\n",
        "  print(\"não é dia dez\")"
      ],
      "execution_count": 3,
      "outputs": [
        {
          "output_type": "stream",
          "name": "stdout",
          "text": [
            "é dia dez\n"
          ]
        }
      ]
    },
    {
      "cell_type": "code",
      "metadata": {
        "colab": {
          "base_uri": "https://localhost:8080/"
        },
        "id": "4JzyrYwdwL21",
        "outputId": "4f057005-e825-4dfe-9c9a-a625a412f109"
      },
      "source": [
        "#jogo da advinhação\n",
        "import random\n",
        "escolhido=int(input(\"digite um nuemro\"))\n",
        "jogador=random.randint(0,jogador)\n",
        "if escolhido==jogador:\n",
        "  print(\"yeah! Voce venceu!\")\n",
        "  print(f'seu numero escolhido: {escolhido}')\n",
        "  print(f'o numero do oponente: {jogador}')\n",
        "else:\n",
        "  print(\"oh no! Voce perdeu\")\n",
        "  print(f'seu numero escolhido: {escolhido}')\n",
        "  print(f'o numero do oponete: {jogador}')\n"
      ],
      "execution_count": 27,
      "outputs": [
        {
          "output_type": "stream",
          "name": "stdout",
          "text": [
            "digite um nuemro5\n",
            "oh no! Voce perdeu\n",
            "seu numero escolhido: 5\n",
            "o numero do oponete: 3\n"
          ]
        }
      ]
    },
    {
      "cell_type": "code",
      "metadata": {
        "id": "FHn-H74s2SNV"
      },
      "source": [
        ""
      ],
      "execution_count": null,
      "outputs": []
    },
    {
      "cell_type": "markdown",
      "metadata": {
        "id": "gn10OtzO2bVD"
      },
      "source": [
        "#operadores logicos\n",
        "criar condiçoes mais elaboradas, condiçao composta\n",
        ".and=isso e aquilo\n",
        ".or=ou\n",
        ".not=neagaçao "
      ]
    },
    {
      "cell_type": "code",
      "metadata": {
        "colab": {
          "base_uri": "https://localhost:8080/"
        },
        "id": "-vVcuNzT3X1w",
        "outputId": "6c04909e-db5a-4556-a4a2-7c11098e9bad"
      },
      "source": [
        "dia=\"quarta\"\n",
        "if dia==\"sabado\" or dia==\"domingo\":\n",
        "  print(\"fim de semana ;)\")\n",
        "elif dia==\"sexta\":\n",
        "  print(\"#SEXTOU\")\n",
        "else:\n",
        "  print(\"é dia de semana :(\")"
      ],
      "execution_count": 9,
      "outputs": [
        {
          "output_type": "stream",
          "name": "stdout",
          "text": [
            "é dia de semana :(\n"
          ]
        }
      ]
    },
    {
      "cell_type": "code",
      "metadata": {
        "colab": {
          "base_uri": "https://localhost:8080/"
        },
        "id": "IvLI1FTK359I",
        "outputId": "aab00c90-085e-492c-de5f-9351be99a1f0"
      },
      "source": [
        "temperatura=\"quente\"\n",
        "horario=\"noite\"\n",
        "if temperatura==\"frio\":\n",
        "  print(\"fondeau\")\n",
        "elif temperatura==\"quente\" and horario!=\"noite\":\n",
        "  print(\"sorvete\")\n",
        "else:\n",
        "  print(\"gelatina\")\n"
      ],
      "execution_count": 15,
      "outputs": [
        {
          "output_type": "stream",
          "name": "stdout",
          "text": [
            "gelatina\n"
          ]
        }
      ]
    },
    {
      "cell_type": "code",
      "metadata": {
        "colab": {
          "base_uri": "https://localhost:8080/"
        },
        "id": "uVSHM1JW4_vK",
        "outputId": "43ac986c-4659-4a1a-dba4-2a032e840e24"
      },
      "source": [
        "#numeros aceitos 3,4,5\n",
        "numero=int(input(\"insira um numero\"))\n",
        "if numero>=3 and numero<=5:\n",
        "  print(\"aceito\")\n",
        "else:\n",
        "  print(\"não aceito\")\n",
        "\n"
      ],
      "execution_count": 17,
      "outputs": [
        {
          "output_type": "stream",
          "name": "stdout",
          "text": [
            "insira um numero3\n",
            "aceito\n"
          ]
        }
      ]
    },
    {
      "cell_type": "code",
      "metadata": {
        "id": "eV5DmhlN6LFl"
      },
      "source": [
        ""
      ],
      "execution_count": null,
      "outputs": []
    },
    {
      "cell_type": "markdown",
      "metadata": {
        "id": "KlZse66h8z4G"
      },
      "source": [
        "#laços de repetiçao-evita repetiçao de codicos\n",
        ". sao chamados de loop\n",
        ". for\n",
        ". while\n",
        ". em algumas linguagens, usa-se o do while\n",
        ". para quebrar, usa-se o comando break\n"
      ]
    },
    {
      "cell_type": "code",
      "metadata": {
        "colab": {
          "base_uri": "https://localhost:8080/"
        },
        "id": "wXAMwuP89TMg",
        "outputId": "f51cf9c0-0afe-45a1-ee2c-cc804b3d8cda"
      },
      "source": [
        "c=0\n",
        "for c in range(0,11,1):\n",
        "  print(c)"
      ],
      "execution_count": 24,
      "outputs": [
        {
          "output_type": "stream",
          "name": "stdout",
          "text": [
            "0\n",
            "1\n",
            "2\n",
            "3\n",
            "4\n",
            "5\n",
            "6\n",
            "7\n",
            "8\n",
            "9\n",
            "10\n"
          ]
        }
      ]
    },
    {
      "cell_type": "code",
      "metadata": {
        "colab": {
          "base_uri": "https://localhost:8080/"
        },
        "id": "qWdY6Dv6-t9E",
        "outputId": "18e88f4f-a49b-4ab4-d34b-1b6530e97ee4"
      },
      "source": [
        "c=0\n",
        "for c in range(0,11,1):\n",
        "  print(f'o numero atual é {c} e o próximo é {c+1}')"
      ],
      "execution_count": 28,
      "outputs": [
        {
          "output_type": "stream",
          "name": "stdout",
          "text": [
            "o numero atual é 0 e o próximo é 1\n",
            "o numero atual é 1 e o próximo é 2\n",
            "o numero atual é 2 e o próximo é 3\n",
            "o numero atual é 3 e o próximo é 4\n",
            "o numero atual é 4 e o próximo é 5\n",
            "o numero atual é 5 e o próximo é 6\n",
            "o numero atual é 6 e o próximo é 7\n",
            "o numero atual é 7 e o próximo é 8\n",
            "o numero atual é 8 e o próximo é 9\n",
            "o numero atual é 9 e o próximo é 10\n",
            "o numero atual é 10 e o próximo é 11\n"
          ]
        }
      ]
    },
    {
      "cell_type": "code",
      "metadata": {
        "colab": {
          "base_uri": "https://localhost:8080/"
        },
        "id": "tmKyg1n8_Vkr",
        "outputId": "01a896e6-767c-4983-e5fc-552fee5547fc"
      },
      "source": [
        "i=0\n",
        "for i in range(0,11,1):\n",
        "  print(\"atual\", i)\n",
        "  print(\"dobro\", i*2)\n",
        "  print(\"triplo\", i*3)\n",
        "  print(\"quadadro\", i**2)\n",
        "  print(\"cubo\", i**3)\n",
        "  print(\"-\"*10)"
      ],
      "execution_count": 31,
      "outputs": [
        {
          "output_type": "stream",
          "name": "stdout",
          "text": [
            "atual 0\n",
            "dobro 0\n",
            "triplo 0\n",
            "quadadro 0\n",
            "cubo 0\n",
            "----------\n",
            "atual 1\n",
            "dobro 2\n",
            "triplo 3\n",
            "quadadro 1\n",
            "cubo 1\n",
            "----------\n",
            "atual 2\n",
            "dobro 4\n",
            "triplo 6\n",
            "quadadro 4\n",
            "cubo 8\n",
            "----------\n",
            "atual 3\n",
            "dobro 6\n",
            "triplo 9\n",
            "quadadro 9\n",
            "cubo 27\n",
            "----------\n",
            "atual 4\n",
            "dobro 8\n",
            "triplo 12\n",
            "quadadro 16\n",
            "cubo 64\n",
            "----------\n",
            "atual 5\n",
            "dobro 10\n",
            "triplo 15\n",
            "quadadro 25\n",
            "cubo 125\n",
            "----------\n",
            "atual 6\n",
            "dobro 12\n",
            "triplo 18\n",
            "quadadro 36\n",
            "cubo 216\n",
            "----------\n",
            "atual 7\n",
            "dobro 14\n",
            "triplo 21\n",
            "quadadro 49\n",
            "cubo 343\n",
            "----------\n",
            "atual 8\n",
            "dobro 16\n",
            "triplo 24\n",
            "quadadro 64\n",
            "cubo 512\n",
            "----------\n",
            "atual 9\n",
            "dobro 18\n",
            "triplo 27\n",
            "quadadro 81\n",
            "cubo 729\n",
            "----------\n",
            "atual 10\n",
            "dobro 20\n",
            "triplo 30\n",
            "quadadro 100\n",
            "cubo 1000\n",
            "----------\n"
          ]
        }
      ]
    },
    {
      "cell_type": "code",
      "metadata": {
        "colab": {
          "base_uri": "https://localhost:8080/"
        },
        "id": "3ycnW5agBBX1",
        "outputId": "2ba0963a-5162-4728-9dac-13d7bbaee63b"
      },
      "source": [
        "c=0\n",
        "n=int(input(\"insira um numero\"))\n",
        "for c in range(0,11,1):\n",
        "  print(f'{n} x {c}= {n*c}')"
      ],
      "execution_count": 36,
      "outputs": [
        {
          "output_type": "stream",
          "name": "stdout",
          "text": [
            "insira um numero56\n",
            "56 x 0= 0\n",
            "56 x 1= 56\n",
            "56 x 2= 112\n",
            "56 x 3= 168\n",
            "56 x 4= 224\n",
            "56 x 5= 280\n",
            "56 x 6= 336\n",
            "56 x 7= 392\n",
            "56 x 8= 448\n",
            "56 x 9= 504\n",
            "56 x 10= 560\n"
          ]
        }
      ]
    },
    {
      "cell_type": "code",
      "metadata": {
        "colab": {
          "base_uri": "https://localhost:8080/"
        },
        "id": "JpOlo-wKCk8h",
        "outputId": "0396fb5a-d8b1-4512-8f51-feea745b1b4d"
      },
      "source": [
        "n=int(input(\"insira um numero:\"))\n",
        "c=0\n",
        "if n%2==0:\n",
        "  print('o numero é par')\n",
        "  for c in range(0,11,1):\n",
        "   print(f'{n}x {c}={n*c}')\n",
        "else:\n",
        "   print(\"impar! Invalido\")"
      ],
      "execution_count": 44,
      "outputs": [
        {
          "output_type": "stream",
          "name": "stdout",
          "text": [
            "insira um numero:4\n",
            "o numero é par\n",
            "4x 0=0\n",
            "4x 1=4\n",
            "4x 2=8\n",
            "4x 3=12\n",
            "4x 4=16\n",
            "4x 5=20\n",
            "4x 6=24\n",
            "4x 7=28\n",
            "4x 8=32\n",
            "4x 9=36\n",
            "4x 10=40\n"
          ]
        }
      ]
    },
    {
      "cell_type": "code",
      "metadata": {
        "colab": {
          "base_uri": "https://localhost:8080/"
        },
        "id": "fOPgq3X7EWQ8",
        "outputId": "4049ab29-4884-4fd4-f5ff-bb72f7cfe588"
      },
      "source": [
        "lista=[\"moprphin\",\"lawly\",\"kuro\",\"itadori\"]\n",
        "for nome in lista:\n",
        "  print(f'no nome:{nome} tem {len(nome)} letras')"
      ],
      "execution_count": 52,
      "outputs": [
        {
          "output_type": "stream",
          "name": "stdout",
          "text": [
            "no nome:moprphin tem 8 letras\n",
            "no nome:lawly tem 5 letras\n",
            "no nome:kuro tem 4 letras\n",
            "no nome:itadori tem 7 letras\n"
          ]
        }
      ]
    },
    {
      "cell_type": "code",
      "metadata": {
        "colab": {
          "base_uri": "https://localhost:8080/"
        },
        "id": "g0evnTijAjGB",
        "outputId": "408dfe66-0eaa-4914-9fde-1d7206eb2924"
      },
      "source": [
        "notas=[8,7,3,2,10]\n",
        "quantidade=len(notas)\n",
        "s_total=0\n",
        "for nota in notas:\n",
        "  s_total= s_total + nota\n",
        "media=s_total/quantidade\n",
        "\n",
        "if media>=6:\n",
        "  print(\"passou\")\n",
        "else:\n",
        "  print(\"reprovou\")"
      ],
      "execution_count": 58,
      "outputs": [
        {
          "output_type": "stream",
          "name": "stdout",
          "text": [
            "passou\n"
          ]
        }
      ]
    },
    {
      "cell_type": "markdown",
      "metadata": {
        "id": "wmMUDgR18xVW"
      },
      "source": [
        ""
      ]
    },
    {
      "cell_type": "code",
      "metadata": {
        "colab": {
          "base_uri": "https://localhost:8080/"
        },
        "id": "dYk62UBJHM6-",
        "outputId": "dec27b42-e3c1-4a11-c510-39a0fd82123a"
      },
      "source": [
        "media\n",
        "\n"
      ],
      "execution_count": 60,
      "outputs": [
        {
          "output_type": "execute_result",
          "data": {
            "text/plain": [
              "6.0"
            ]
          },
          "metadata": {},
          "execution_count": 60
        }
      ]
    },
    {
      "cell_type": "code",
      "metadata": {
        "colab": {
          "base_uri": "https://localhost:8080/"
        },
        "id": "QmC6ntWuHxPz",
        "outputId": "73ae6e5b-845b-4bc5-eadd-225d637ea91a"
      },
      "source": [
        "def mostrar_nome():\n",
        "  print(\"oi morphin\")\n",
        "\n",
        "mostrar_nome()"
      ],
      "execution_count": 61,
      "outputs": [
        {
          "output_type": "stream",
          "name": "stdout",
          "text": [
            "oi morphin\n"
          ]
        }
      ]
    },
    {
      "cell_type": "code",
      "metadata": {
        "colab": {
          "base_uri": "https://localhost:8080/"
        },
        "id": "7JffHOjLJCsD",
        "outputId": "98ff2a16-0da8-4088-83c5-ecab4dc875e7"
      },
      "source": [
        "def qualquer_nome(nome):\n",
        "  print(f'oi {nome}')\n",
        "\n",
        "\n",
        "nome=str(input(\"insira um nome\"))\n",
        "qualquer_nome(nome)\n",
        "\n"
      ],
      "execution_count": 62,
      "outputs": [
        {
          "output_type": "stream",
          "name": "stdout",
          "text": [
            "insira um nomeitadori\n",
            "oi itadori\n"
          ]
        }
      ]
    },
    {
      "cell_type": "code",
      "metadata": {
        "colab": {
          "base_uri": "https://localhost:8080/",
          "height": 129
        },
        "id": "Po4DICHbLgUC",
        "outputId": "1acc0bad-d4c5-415b-bc67-72c1f8745369"
      },
      "source": [
        "def somar(numero1 + numero2):\n",
        "  soma=numero1 + numero2\n",
        "  return soma\n"
      ],
      "execution_count": 67,
      "outputs": [
        {
          "output_type": "error",
          "ename": "SyntaxError",
          "evalue": "ignored",
          "traceback": [
            "\u001b[0;36m  File \u001b[0;32m\"<ipython-input-67-910b5fedfe74>\"\u001b[0;36m, line \u001b[0;32m1\u001b[0m\n\u001b[0;31m    def somar(numero1 + numero2):\u001b[0m\n\u001b[0m                      ^\u001b[0m\n\u001b[0;31mSyntaxError\u001b[0m\u001b[0;31m:\u001b[0m invalid syntax\n"
          ]
        }
      ]
    }
  ]
}